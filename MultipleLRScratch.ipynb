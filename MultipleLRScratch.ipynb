{
  "cells": [
    {
      "cell_type": "markdown",
      "metadata": {
        "id": "view-in-github",
        "colab_type": "text"
      },
      "source": [
        "<a href=\"https://colab.research.google.com/github/Puttaraj276/Project-Management/blob/main/MultipleLRScratch.ipynb\" target=\"_parent\"><img src=\"https://colab.research.google.com/assets/colab-badge.svg\" alt=\"Open In Colab\"/></a>"
      ]
    },
    {
      "cell_type": "markdown",
      "id": "e46d3963",
      "metadata": {
        "id": "e46d3963"
      },
      "source": [
        "## Importing Modules"
      ]
    },
    {
      "cell_type": "code",
      "execution_count": 1,
      "id": "d98b070b",
      "metadata": {
        "id": "d98b070b"
      },
      "outputs": [],
      "source": [
        "# Importing the necessary libraries\n",
        "import numpy as np\n",
        "import pandas as pd\n",
        "import matplotlib.pyplot as plt\n",
        "from sklearn.model_selection import train_test_split\n"
      ]
    },
    {
      "cell_type": "markdown",
      "id": "c0bc83bb",
      "metadata": {
        "id": "c0bc83bb"
      },
      "source": [
        "## Input Data"
      ]
    },
    {
      "cell_type": "code",
      "execution_count": 16,
      "id": "c2d6b7ea",
      "metadata": {
        "id": "c2d6b7ea"
      },
      "outputs": [],
      "source": [
        "# Input the data set\n",
        "df = pd.read_csv(\"HousingData.csv\")\n"
      ]
    },
    {
      "cell_type": "code",
      "source": [
        "df.isna().sum()"
      ],
      "metadata": {
        "colab": {
          "base_uri": "https://localhost:8080/"
        },
        "id": "cA8QTIflLiJG",
        "outputId": "12eb2abb-d171-4a21-ab5f-95be264534e9"
      },
      "id": "cA8QTIflLiJG",
      "execution_count": 31,
      "outputs": [
        {
          "output_type": "execute_result",
          "data": {
            "text/plain": [
              "CRIM       20\n",
              "ZN         20\n",
              "INDUS      20\n",
              "CHAS       20\n",
              "NOX         0\n",
              "RM          0\n",
              "AGE        20\n",
              "DIS         0\n",
              "RAD         0\n",
              "TAX         0\n",
              "PTRATIO     0\n",
              "B           0\n",
              "LSTAT      20\n",
              "MEDV        0\n",
              "dtype: int64"
            ]
          },
          "metadata": {},
          "execution_count": 31
        }
      ]
    },
    {
      "cell_type": "code",
      "source": [
        "df['CRIM']=df['CRIM'].fillna(df['CRIM'].mean())\n",
        "df['ZN']=df['ZN'].fillna(df['ZN'].mean())\n",
        "df['INDUS']=df['INDUS'].fillna(df['INDUS'].mean())\n",
        "df['CHAS']=df['CHAS'].fillna(df['CHAS'].mean())\n",
        "df['AGE']=df['AGE'].fillna(df['AGE'].mean())\n",
        "df['LSTAT']=df['LSTAT'].fillna(df['LSTAT'].mean())"
      ],
      "metadata": {
        "id": "7TXHIacmNMYE"
      },
      "id": "7TXHIacmNMYE",
      "execution_count": 43,
      "outputs": []
    },
    {
      "cell_type": "markdown",
      "id": "975f6411",
      "metadata": {
        "id": "975f6411"
      },
      "source": [
        "## Define features and labels"
      ]
    },
    {
      "cell_type": "code",
      "execution_count": 44,
      "id": "ec6d7ed3",
      "metadata": {
        "id": "ec6d7ed3"
      },
      "outputs": [],
      "source": [
        "# Define features and labels\n",
        "x = df.iloc[:,:-1].values\n",
        "y = df.iloc[:,-1].values"
      ]
    },
    {
      "cell_type": "code",
      "source": [
        "x.shape"
      ],
      "metadata": {
        "colab": {
          "base_uri": "https://localhost:8080/"
        },
        "id": "TsNFgHfOMb4-",
        "outputId": "c6c443ce-7285-420d-a4a2-79c5bcc8aec5"
      },
      "id": "TsNFgHfOMb4-",
      "execution_count": 45,
      "outputs": [
        {
          "output_type": "execute_result",
          "data": {
            "text/plain": [
              "(506, 13)"
            ]
          },
          "metadata": {},
          "execution_count": 45
        }
      ]
    },
    {
      "cell_type": "code",
      "source": [
        "y.shape"
      ],
      "metadata": {
        "colab": {
          "base_uri": "https://localhost:8080/"
        },
        "id": "9IHA4wELMd2g",
        "outputId": "af3da848-4263-4cd0-8fb4-64f0663435a1"
      },
      "id": "9IHA4wELMd2g",
      "execution_count": 46,
      "outputs": [
        {
          "output_type": "execute_result",
          "data": {
            "text/plain": [
              "(506,)"
            ]
          },
          "metadata": {},
          "execution_count": 46
        }
      ]
    },
    {
      "cell_type": "markdown",
      "id": "79306e50",
      "metadata": {
        "id": "79306e50"
      },
      "source": [
        "## Converting text into columns"
      ]
    },
    {
      "cell_type": "code",
      "execution_count": 37,
      "id": "8bd4768d",
      "metadata": {
        "id": "8bd4768d"
      },
      "outputs": [],
      "source": [
        "# Convert text data to numbers\n",
        "from sklearn.compose import ColumnTransformer\n",
        "from sklearn.preprocessing import OneHotEncoder\n",
        "ct = ColumnTransformer(transformers=[('encoder', OneHotEncoder(), [3])], remainder='passthrough')\n",
        "x = np.array(ct.fit_transform(x))\n"
      ]
    },
    {
      "cell_type": "markdown",
      "id": "145a262b",
      "metadata": {
        "id": "145a262b"
      },
      "source": [
        "## Scaling Dataset"
      ]
    },
    {
      "cell_type": "code",
      "execution_count": 47,
      "id": "32687bf0",
      "metadata": {
        "id": "32687bf0"
      },
      "outputs": [],
      "source": [
        "# Scale the dataset\n",
        "from sklearn.preprocessing import StandardScaler\n",
        "sc = StandardScaler()\n",
        "x = sc.fit_transform(x)\n"
      ]
    },
    {
      "cell_type": "markdown",
      "id": "925291e9",
      "metadata": {
        "id": "925291e9"
      },
      "source": [
        "## Separating training and testing data"
      ]
    },
    {
      "cell_type": "code",
      "execution_count": 48,
      "id": "8d909f00",
      "metadata": {
        "id": "8d909f00"
      },
      "outputs": [],
      "source": [
        "# Separate the dataset into training and testing## Define features and labels\n",
        "Xtrain, Xtest, Ytrain, Ytest = train_test_split( x, y, test_size = 0.3,random_state=42)\n"
      ]
    },
    {
      "cell_type": "markdown",
      "id": "2daeec6d",
      "metadata": {
        "id": "2daeec6d"
      },
      "source": [
        "## Implementing the logic for cost function and gradient descent function"
      ]
    },
    {
      "cell_type": "code",
      "execution_count": 49,
      "id": "8a5b58ab",
      "metadata": {
        "id": "8a5b58ab"
      },
      "outputs": [],
      "source": [
        "# Creating the cost and gradient function\n",
        "#calculate cost\n",
        "def CostFunction(x,y,w,b):\n",
        "    cost = np.sum((((x.dot(w) + b) - y) ** 2) / (2*len(y)))\n",
        "    return cost"
      ]
    },
    {
      "cell_type": "code",
      "execution_count": 50,
      "id": "57693a56",
      "metadata": {
        "id": "57693a56"
      },
      "outputs": [],
      "source": [
        "#Gradient Descent\n",
        "def GradientDescent(x, y, w, b, learning_rate, epochs):\n",
        "    cost_list = [0] * epochs\n",
        "\n",
        "    for epoch in range(epochs):\n",
        "        z = x.dot(w) + b\n",
        "        loss = z - y\n",
        "\n",
        "        weight_gradient = x.T.dot(loss) / len(y)\n",
        "        bias_gradient = np.sum(loss) / len(y)\n",
        "\n",
        "        w = w - learning_rate*weight_gradient\n",
        "        b = b - learning_rate*bias_gradient\n",
        "\n",
        "        cost = CostFunction(x, y, w, b)\n",
        "        cost_list[epoch] = cost\n",
        "\n",
        "        if (epoch%(epochs/10)==0):\n",
        "            print(\"Cost at epoch\",epoch,\"is:\",cost)\n",
        "\n",
        "    return w, b, cost_list"
      ]
    },
    {
      "cell_type": "markdown",
      "id": "c95e2162",
      "metadata": {
        "id": "c95e2162"
      },
      "source": [
        "## Calculating weights and bias"
      ]
    },
    {
      "cell_type": "code",
      "execution_count": 51,
      "id": "a1831ed6",
      "metadata": {
        "colab": {
          "base_uri": "https://localhost:8080/"
        },
        "id": "a1831ed6",
        "outputId": "e42be4db-518a-4327-99f8-2405e807cf48"
      },
      "outputs": [
        {
          "output_type": "stream",
          "name": "stdout",
          "text": [
            "Cost at epoch 0 is: 307.1804280842215\n",
            "Cost at epoch 1500 is: 12.831530136578138\n",
            "Cost at epoch 3000 is: 11.94474231690276\n",
            "Cost at epoch 4500 is: 11.850132354811329\n",
            "Cost at epoch 6000 is: 11.810468743747265\n",
            "Cost at epoch 7500 is: 11.791271532425569\n",
            "Cost at epoch 9000 is: 11.780910922252543\n",
            "Cost at epoch 10500 is: 11.774814810959425\n",
            "Cost at epoch 12000 is: 11.771006452170742\n",
            "Cost at epoch 13500 is: 11.768536657652039\n"
          ]
        }
      ],
      "source": [
        "# Calculating weights and bias\n",
        "w, b, c= GradientDescent(Xtrain, Ytrain, np.zeros(Xtrain.shape[1]), 0, 0.002,epochs=15000)\n",
        "#38791988.606615104 is lowest cost achieved"
      ]
    },
    {
      "cell_type": "markdown",
      "id": "2362652a",
      "metadata": {
        "id": "2362652a"
      },
      "source": [
        "## Plotting the cost function"
      ]
    },
    {
      "cell_type": "code",
      "execution_count": 52,
      "id": "e0c01eec",
      "metadata": {
        "scrolled": true,
        "colab": {
          "base_uri": "https://localhost:8080/",
          "height": 447
        },
        "id": "e0c01eec",
        "outputId": "6d14f43d-94d8-42c5-b19b-f1ee8b803cd9"
      },
      "outputs": [
        {
          "output_type": "execute_result",
          "data": {
            "text/plain": [
              "[<matplotlib.lines.Line2D at 0x7db8f115dcc0>]"
            ]
          },
          "metadata": {},
          "execution_count": 52
        },
        {
          "output_type": "display_data",
          "data": {
            "text/plain": [
              "<Figure size 640x480 with 1 Axes>"
            ],
            "image/png": "[encoded data removed]"
          },
          "metadata": {}
        }
      ],
      "source": [
        "# Plotting the cost\n",
        "plt.plot(c)"
      ]
    },
    {
      "cell_type": "markdown",
      "id": "eb31d43a",
      "metadata": {
        "id": "eb31d43a"
      },
      "source": [
        "## Predicting values"
      ]
    },
    {
      "cell_type": "code",
      "execution_count": 53,
      "id": "0d51a88c",
      "metadata": {
        "id": "0d51a88c"
      },
      "outputs": [],
      "source": [
        "# Predicting labels with the calculated weights and biases\n",
        "def predict(X, w, b):\n",
        "    return X.dot(w) + b"
      ]
    },
    {
      "cell_type": "code",
      "execution_count": 54,
      "id": "b857e9a8",
      "metadata": {
        "id": "b857e9a8"
      },
      "outputs": [],
      "source": [
        "y_pred = predict(Xtest, w, b)"
      ]
    },
    {
      "cell_type": "markdown",
      "id": "e2de7b79",
      "metadata": {
        "id": "e2de7b79"
      },
      "source": [
        "## Calculating accuracy"
      ]
    },
    {
      "cell_type": "code",
      "execution_count": 55,
      "id": "9fed13fb",
      "metadata": {
        "id": "9fed13fb"
      },
      "outputs": [],
      "source": [
        "# Calculating the r² accuracy of our model\n",
        "def r2score(y_pred, y):\n",
        "    rss = np.sum((y_pred - y) ** 2)\n",
        "    tss = np.sum((y-y.mean()) ** 2)\n",
        "    r2 = 1 - (rss / tss)\n",
        "    return r2"
      ]
    },
    {
      "cell_type": "code",
      "execution_count": 56,
      "id": "77b5fc58",
      "metadata": {
        "colab": {
          "base_uri": "https://localhost:8080/"
        },
        "id": "77b5fc58",
        "outputId": "a341c7da-c083-441f-c75d-d73e17127af6"
      },
      "outputs": [
        {
          "output_type": "execute_result",
          "data": {
            "text/plain": [
              "0.705369601636064"
            ]
          },
          "metadata": {},
          "execution_count": 56
        }
      ],
      "source": [
        "r2score(y_pred, Ytest)"
      ]
    }
  ],
  "metadata": {
    "kernelspec": {
      "display_name": "Python 3 (ipykernel)",
      "language": "python",
      "name": "python3"
    },
    "language_info": {
      "codemirror_mode": {
        "name": "ipython",
        "version": 3
      },
      "file_extension": ".py",
      "mimetype": "text/x-python",
      "name": "python",
      "nbconvert_exporter": "python",
      "pygments_lexer": "ipython3",
      "version": "3.9.13"
    },
    "colab": {
      "provenance": [],
      "include_colab_link": true
    }
  },
  "nbformat": 4,
  "nbformat_minor": 5
}